{
 "cells": [
  {
   "cell_type": "code",
   "execution_count": 2,
   "metadata": {},
   "outputs": [
    {
     "name": "stdout",
     "output_type": "stream",
     "text": [
      "Loading Pegasus Models\n",
      "Creating ONNX sessions...\n",
      "ONNX sessions created!\n",
      "Loading PEGASUS model...\n",
      "PEGASUS model loaded!\n",
      "Loading PEGASUS tokenizer...\n",
      "PEGASUS tokenizer loaded!\n",
      "Loaded\n",
      "Loading Bart Models\n",
      "Creating ONNX sessions...\n",
      "ONNX sessions created!\n",
      "Loading BART model...\n",
      "BART model loaded!\n",
      "Loading BART tokenizer...\n",
      "BART tokenizer loaded!\n",
      "Loaded\n",
      "----------\n",
      "Brio-Pegasus ONNX : 10.4121\n",
      "The Economist is one of the world's leading business and political newspapers.\n",
      "----------\n",
      "Brio-Pegasus Vanilla : 17.0237\n",
      "The Economist is one of the world's leading business and political newspapers, with a strong focus on data journalism and analysis.\n",
      "----------\n",
      "Brio-Bart ONNX : 5.1177\n",
      "The Economist is a weekly newspaper printed in demitab format and published digitally. Founded in 1843, it focuses on current affairs, international business, politics, and culture. The newspaper has a global circulation of over 1.6 million. The Economist is owned by The Economist Group.\n",
      "----------\n",
      "Brio-Bart Vanilla : 13.2973\n",
      "The Economist is a British weekly newspaper printed in demitab format and published digitally. Founded in 1843, it focuses on current affairs, international business, politics, technology, and culture. The Economist has an average global print circulation of over 1.6 million and a digital audience of 35 million. The newspaper is owned by The Economist Group.\n"
     ]
    }
   ],
   "source": [
    "from app.onnx_inference import BrioOnnxPipeline\n",
    "from transformers import PegasusTokenizer, BartTokenizer, PegasusForConditionalGeneration, BartForConditionalGeneration\n",
    "import time\n",
    "\n",
    "pegasus_model_paths = ['./models/brio-xsum-cased-encoder-quantized.onnx',\n",
    "                       './models/brio-xsum-cased-decoder-quantized.onnx', \n",
    "                       './models/brio-xsum-cased-init-decoder-quantized.onnx']\n",
    "\n",
    "bart_model_paths = ['./models/brio-cnndm-uncased-encoder-quantized.onnx',\n",
    "                    './models/brio-cnndm-uncased-decoder-quantized.onnx',\n",
    "                    './models/brio-cnndm-uncased-init-decoder-quantized.onnx']\n",
    "\n",
    "pegasus_checkpoint = 'Yale-LILY/brio-xsum-cased'\n",
    "bart_checkpoint = 'Yale-LILY/brio-cnndm-uncased'\n",
    "\n",
    "text= \"\"\"\n",
    "The Economist is a British weekly newspaper printed in demitab format and published digitally that focuses on current affairs, international business, politics, technology, and culture. Based in London, the newspaper is owned by The Economist Group, with core editorial offices in the United States, as well as across major cities in continental Europe, Asia, and the Middle East. In 2019, its average global print circulation was over 909,476; this, combined with its digital presence, runs to over 1.6 million. Across its social media platforms, it reaches an audience of 35 million, as of 2016. The newspaper has a prominent focus on data journalism and analysis over original reporting, to both criticism and acclaim. Founded in 1843, The Economist was first circulated by Scottish economist James Wilson to muster support for abolishing the British Corn Laws (1815–1846), a system of import tariffs. Over time, the newspaper's coverage expanded further into political economy and eventually began running articles on current events, finance, commerce, and British politics. Throughout the mid-to-late 20th century, it greatly expanded its layout and format, adding opinion columns, special reports, political cartoons, reader letters, cover stories, art critique, book reviews, and technology features. The paper is often recognizable by its fire engine red nameplate and illustrated, topical covers. Individual articles are written anonymously, with no byline, in order for the paper to speak as one collective voice. It is supplemented by its sister lifestyle magazine, 1843, and a variety of podcasts, films, and books.\n",
    "\"\"\"\n",
    "print('Loading Pegasus Models')\n",
    "pegasus_pipeline = BrioOnnxPipeline(pegasus_checkpoint, pegasus_model_paths)\n",
    "pegasus_model = PegasusForConditionalGeneration.from_pretrained(pegasus_checkpoint)\n",
    "pegasus_tokenizer = PegasusTokenizer.from_pretrained(pegasus_checkpoint)\n",
    "print('Loaded')\n",
    "\n",
    "print('Loading Bart Models')\n",
    "bart_pipeline = BrioOnnxPipeline(bart_checkpoint, bart_model_paths, pegasus=False)\n",
    "bart_model = BartForConditionalGeneration.from_pretrained(bart_checkpoint)\n",
    "bart_tokenizer = BartTokenizer.from_pretrained(bart_checkpoint)\n",
    "print('Loaded')\n",
    "print('-'*10)\n",
    "\n",
    "start = time.time()\n",
    "summary = pegasus_pipeline(text)\n",
    "end = time.time()\n",
    "print(f\"Brio-Pegasus ONNX : {end-start:.4f}\")\n",
    "print(summary)\n",
    "print('-'*10)\n",
    "\n",
    "start = time.time()\n",
    "encoded_input = pegasus_tokenizer(text,return_tensors='pt')\n",
    "output_tokens = pegasus_model.generate(**encoded_input)\n",
    "summary = pegasus_tokenizer.batch_decode(output_tokens, skip_special_tokens=True)[0]\n",
    "end = time.time()\n",
    "print(f\"Brio-Pegasus Vanilla : {end-start:.4f}\")\n",
    "print(summary)\n",
    "print('-'*10)\n",
    "\n",
    "start = time.time()\n",
    "summary = bart_pipeline(text)\n",
    "end = time.time()\n",
    "print(f\"Brio-Bart ONNX : {end-start:.4f}\")\n",
    "print(summary)\n",
    "print('-'*10)\n",
    "\n",
    "start = time.time()\n",
    "encoded_input = bart_tokenizer(text,return_tensors='pt')\n",
    "output_tokens = bart_model.generate(**encoded_input)\n",
    "summary = bart_tokenizer.batch_decode(output_tokens, skip_special_tokens=True)[0]\n",
    "end = time.time()\n",
    "print(f\"Brio-Bart Vanilla : {end-start:.4f}\")\n",
    "print(summary)\n"
   ]
  }
 ],
 "metadata": {
  "kernelspec": {
   "display_name": "Python 3.9.12 ('venv': venv)",
   "language": "python",
   "name": "python3"
  },
  "language_info": {
   "codemirror_mode": {
    "name": "ipython",
    "version": 3
   },
   "file_extension": ".py",
   "mimetype": "text/x-python",
   "name": "python",
   "nbconvert_exporter": "python",
   "pygments_lexer": "ipython3",
   "version": "3.9.12"
  },
  "orig_nbformat": 4,
  "vscode": {
   "interpreter": {
    "hash": "6331af2eb0c67090cbf8fd7a022f7e2bdbfa22760b885e87c335f88121c7466b"
   }
  }
 },
 "nbformat": 4,
 "nbformat_minor": 2
}
